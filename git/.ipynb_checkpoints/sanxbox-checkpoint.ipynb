{
 "cells": [
  {
   "cell_type": "code",
   "execution_count": 1,
   "metadata": {
    "collapsed": true
   },
   "outputs": [],
   "source": [
    "import numpy as np\n",
    "import math"
   ]
  },
  {
   "cell_type": "code",
   "execution_count": 2,
   "metadata": {
    "collapsed": true
   },
   "outputs": [],
   "source": [
    "b = 10\n",
    "ramx = ((b * math.pow(10,15))/(128 * math.pow(10,6) * 3) )* 150"
   ]
  },
  {
   "cell_type": "code",
   "execution_count": 3,
   "metadata": {},
   "outputs": [
    {
     "name": "stdout",
     "output_type": "stream",
     "text": [
      "3.90625\n"
     ]
    }
   ],
   "source": [
    "print (ramx/math.pow(10,9))"
   ]
  },
  {
   "cell_type": "code",
   "execution_count": 4,
   "metadata": {},
   "outputs": [
    {
     "name": "stdout",
     "output_type": "stream",
     "text": [
      "1562500000.0\n"
     ]
    }
   ],
   "source": [
    "#1PB / (64Mb * 3) * 300b = \n",
    "b = 1 \n",
    "ram = ((b * math.pow(10,15))/(64 * math.pow(10,6) * 3) )* 300\n",
    "print (ram)"
   ]
  },
  {
   "cell_type": "code",
   "execution_count": 5,
   "metadata": {},
   "outputs": [
    {
     "name": "stdout",
     "output_type": "stream",
     "text": [
      "1.5625\n"
     ]
    }
   ],
   "source": [
    "print(ram/math.pow(10,9))"
   ]
  },
  {
   "cell_type": "markdown",
   "metadata": {
    "collapsed": true
   },
   "source": [
    "### tf-idf vectorizer"
   ]
  },
  {
   "cell_type": "code",
   "execution_count": 6,
   "metadata": {
    "collapsed": true
   },
   "outputs": [],
   "source": [
    "from sklearn.feature_extraction.text import TfidfVectorizer"
   ]
  },
  {
   "cell_type": "code",
   "execution_count": 19,
   "metadata": {},
   "outputs": [
    {
     "name": "stdout",
     "output_type": "stream",
     "text": [
      "Text:  ['A simple real-world data for this demo is obtained from the movie review corpus provided by nltk.This is what it is.']\n",
      "Vocabulary:  {'simple': 14, 'real': 12, 'world': 18, 'data': 2, 'for': 4, 'this': 16, 'demo': 3, 'is': 6, 'obtained': 10, 'from': 5, 'the': 15, 'movie': 8, 'review': 13, 'corpus': 1, 'provided': 11, 'by': 0, 'nltk': 9, 'what': 17, 'it': 7}\n",
      "Transformed:    (0, 18)\t1.0\n",
      "  (0, 17)\t1.0\n",
      "  (0, 16)\t2.0\n",
      "  (0, 15)\t1.0\n",
      "  (0, 14)\t1.0\n",
      "  (0, 13)\t1.0\n",
      "  (0, 12)\t1.0\n",
      "  (0, 11)\t1.0\n",
      "  (0, 10)\t1.0\n",
      "  (0, 9)\t1.0\n",
      "  (0, 8)\t1.0\n",
      "  (0, 7)\t1.0\n",
      "  (0, 6)\t3.0\n",
      "  (0, 5)\t1.0\n",
      "  (0, 4)\t1.0\n",
      "  (0, 3)\t1.0\n",
      "  (0, 2)\t1.0\n",
      "  (0, 1)\t1.0\n",
      "  (0, 0)\t1.0\n",
      "idf:  [ 1.  1.  1.  1.  1.  1.  1.  1.  1.  1.  1.  1.  1.  1.  1.  1.  1.  1.\n",
      "  1.]\n"
     ]
    }
   ],
   "source": [
    "txt =[ \"A simple real-world data for this demo is obtained from the movie review corpus provided by nltk.This is what it is.\"]\n",
    "print (\"Text: \" ,txt)\n",
    "tf = TfidfVectorizer(smooth_idf=False, sublinear_tf=False, norm=None, analyzer='word')\n",
    "txt_fitted = tf.fit(txt)\n",
    "print(\"Vocabulary: \",tf.vocabulary_)\n",
    "txt_transformed = txt_fitted.transform(txt)\n",
    "print (\"Transformed: \", txt_transformed)\n",
    "print (\"idf: \", txt_fitted.idf_)"
   ]
  },
  {
   "cell_type": "code",
   "execution_count": null,
   "metadata": {
    "collapsed": true
   },
   "outputs": [],
   "source": []
  }
 ],
 "metadata": {
  "kernelspec": {
   "display_name": "Python 3",
   "language": "python",
   "name": "python3"
  },
  "language_info": {
   "codemirror_mode": {
    "name": "ipython",
    "version": 3
   },
   "file_extension": ".py",
   "mimetype": "text/x-python",
   "name": "python",
   "nbconvert_exporter": "python",
   "pygments_lexer": "ipython3",
   "version": "3.6.3"
  }
 },
 "nbformat": 4,
 "nbformat_minor": 2
}
